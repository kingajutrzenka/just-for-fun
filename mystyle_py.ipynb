{
  "nbformat": 4,
  "nbformat_minor": 0,
  "metadata": {
    "colab": {
      "provenance": [],
      "authorship_tag": "ABX9TyNdnrGDdY+LkJbsyE8pbc70",
      "include_colab_link": true
    },
    "kernelspec": {
      "name": "python3",
      "display_name": "Python 3"
    },
    "language_info": {
      "name": "python"
    }
  },
  "cells": [
    {
      "cell_type": "markdown",
      "metadata": {
        "id": "view-in-github",
        "colab_type": "text"
      },
      "source": [
        "<a href=\"https://colab.research.google.com/github/kingajutrzenka/just-for-fun/blob/main/mystyle_py.ipynb\" target=\"_parent\"><img src=\"https://colab.research.google.com/assets/colab-badge.svg\" alt=\"Open In Colab\"/></a>"
      ]
    },
    {
      "cell_type": "markdown",
      "source": [
        "*Aesthetic*"
      ],
      "metadata": {
        "id": "d5NQAcylYWdw"
      }
    },
    {
      "cell_type": "code",
      "source": [
        "import seaborn as sns\n",
        "\n",
        "def set_soft_earthy_theme():\n",
        "    \"\"\"Jasny styl – soft earthy\"\"\"\n",
        "    palette = [\"#6B705C\", \"#A5A58D\", \"#CB997E\", \"#B5838D\", \"#DDBEA9\"]\n",
        "    sns.set_theme(\n",
        "        style=\"whitegrid\",\n",
        "        rc={\n",
        "            \"axes.spines.top\": False,\n",
        "            \"axes.spines.right\": False,\n",
        "            \"axes.titlesize\": 16,\n",
        "            \"axes.labelsize\": 12,\n",
        "            \"grid.alpha\": 0.2,\n",
        "            \"figure.dpi\": 120,\n",
        "            \"savefig.dpi\": 150,\n",
        "        }\n",
        "    )\n",
        "    sns.set_palette(palette)\n",
        "    return palette\n",
        "\n",
        "def set_soft_dark_theme():\n",
        "    \"\"\"Ciemny styl – earthy dark\"\"\"\n",
        "    palette = [\"#E9D8A6\", \"#EE9B00\", \"#CA6702\", \"#BB3E03\", \"#9B2226\"]\n",
        "    sns.set_theme(\n",
        "        style=\"darkgrid\",\n",
        "        rc={\n",
        "            \"axes.facecolor\": \"#222222\",\n",
        "            \"figure.facecolor\": \"#222222\",\n",
        "            \"axes.spines.top\": False,\n",
        "            \"axes.spines.right\": False,\n",
        "            \"axes.labelcolor\": \"white\",\n",
        "            \"xtick.color\": \"white\",\n",
        "            \"ytick.color\": \"white\",\n",
        "            \"text.color\": \"white\",\n",
        "            \"grid.alpha\": 0.3,\n",
        "            \"figure.dpi\": 120,\n",
        "            \"savefig.dpi\": 150,\n",
        "        }\n",
        "    )\n",
        "    sns.set_palette(palette)\n",
        "    return palette"
      ],
      "metadata": {
        "id": "tsayCLD0an8i"
      },
      "execution_count": 13,
      "outputs": []
    }
  ]
}